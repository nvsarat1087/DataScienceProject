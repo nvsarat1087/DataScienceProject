{
 "cells": [
  {
   "cell_type": "code",
   "execution_count": 13,
   "metadata": {},
   "outputs": [],
   "source": [
    "from csv import reader\n",
    "from math import sqrt\n",
    "\n"
   ]
  },
  {
   "cell_type": "code",
   "execution_count": 19,
   "metadata": {},
   "outputs": [],
   "source": [
    "# Calculate the Euclidean distance between two vectors\n",
    "def euclidean_distance(row1, row2):\n",
    "    out = 0\n",
    "    for i in range(len(row1)-1):\n",
    "        out += (row1[i] - row2[i])**2\n",
    "    return sqrt(out)"
   ]
  },
  {
   "cell_type": "code",
   "execution_count": 20,
   "metadata": {},
   "outputs": [],
   "source": [
    "def get_k_nearest_neighbors(train, test, k):\n",
    "    \n",
    "    train_with_distances = []\n",
    "    for row in train:\n",
    "        train_with_distances.append((row,euclidean_distance(row,test)))\n",
    "    \n",
    "    train_with_distances.sort(key = lambda x:x[1])\n",
    "    \n",
    "    train_with_distances = train_with_distances[:k]\n",
    "    out = [x[0] for x in train_with_distances]\n",
    "    \n",
    "    return out\n",
    "    "
   ]
  },
  {
   "cell_type": "code",
   "execution_count": 21,
   "metadata": {},
   "outputs": [],
   "source": [
    "\n",
    "def predict(train, test_row, num_neighbors):\n",
    "    neighbors = get_neighbors(train, test_row, num_neighbors)\n",
    "    output = {}\n",
    "    maxTillNow = 0\n",
    "    for n in neighbors:\n",
    "        if n[-1] in output:\n",
    "            output[n[-1]] += 1\n",
    "\n",
    "        else:\n",
    "            output[n[-1]] = 1\n",
    "        if output[n[-1]] >  maxTillNow:\n",
    "            maxTillNow = max(output[n[-1]],maxTillNow)\n",
    "            out = n[-1]\n",
    "    return out\n",
    "        \n"
   ]
  },
  {
   "cell_type": "code",
   "execution_count": 22,
   "metadata": {},
   "outputs": [],
   "source": [
    "\n"
   ]
  },
  {
   "cell_type": "code",
   "execution_count": null,
   "metadata": {},
   "outputs": [],
   "source": []
  },
  {
   "cell_type": "code",
   "execution_count": null,
   "metadata": {},
   "outputs": [],
   "source": []
  },
  {
   "cell_type": "code",
   "execution_count": null,
   "metadata": {},
   "outputs": [],
   "source": []
  }
 ],
 "metadata": {
  "kernelspec": {
   "display_name": "Python 3",
   "language": "python",
   "name": "python3"
  },
  "language_info": {
   "codemirror_mode": {
    "name": "ipython",
    "version": 3
   },
   "file_extension": ".py",
   "mimetype": "text/x-python",
   "name": "python",
   "nbconvert_exporter": "python",
   "pygments_lexer": "ipython3",
   "version": "3.6.5"
  }
 },
 "nbformat": 4,
 "nbformat_minor": 2
}
